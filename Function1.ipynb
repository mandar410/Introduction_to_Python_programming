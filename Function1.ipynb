{
 "cells": [
  {
   "cell_type": "raw",
   "id": "93e36a8e",
   "metadata": {},
   "source": [
    "create a function get_expected_cost() that has two arguments:\n",
    "\n",
    "beds - number of bedrooms\n",
    "baths - number of bathrooms\n",
    "\n",
    "It should return the expected cost of a house with that number of bedrooms and bathrooms. Assume that:\n",
    "\n",
    "the expected cost for a house with 0 bedrooms and 0 bathrooms is 80000.\n",
    "each bedroom adds 30000 to the expected cost\n",
    "each bathroom adds 10000 to the expected cost.\n",
    "\n",
    "For instance,\n",
    "\n",
    "a house with 1 bedroom and 1 bathroom has an expected cost of 120000, and\n",
    "a house with 2 bedrooms and 1 bathroom has an expected cost of 150000."
   ]
  },
  {
   "cell_type": "code",
   "execution_count": 1,
   "id": "bf6a55e8",
   "metadata": {},
   "outputs": [],
   "source": [
    "import math\n",
    "def get_expected_cost(beds, baths):\n",
    "    value = 80000 + 30000 * beds + 10000 * baths \n",
    "    return value"
   ]
  },
  {
   "cell_type": "raw",
   "id": "63dc411e",
   "metadata": {},
   "source": [
    "You are thinking about buying a home and want to get an idea of how much you will spend, based on the number of bedrooms and bathrooms. You are trying to decide between four different options:\n",
    "\n",
    "Option 1: house with two bedrooms and three bathrooms\n",
    "Option 2: house with three bedrooms and two bathrooms\n",
    "Option 3: house with three bedrooms and three bathrooms\n",
    "Option 4: house with three bedrooms and four bathrooms\n",
    "\n",
    "Use the get_expected_cost() function you defined in question 1 to set option_1, option_2, option_3, and option_4 to the expected cost of each option."
   ]
  },
  {
   "cell_type": "code",
   "execution_count": 2,
   "id": "2aff1db0",
   "metadata": {},
   "outputs": [
    {
     "name": "stdout",
     "output_type": "stream",
     "text": [
      "170000\n",
      "190000\n",
      "200000\n",
      "210000\n"
     ]
    }
   ],
   "source": [
    "option_one = get_expected_cost(2,3)\n",
    "option_two = get_expected_cost(3,2)\n",
    "option_three = get_expected_cost(3,3)\n",
    "option_four = get_expected_cost(3,4)\n",
    "\n",
    "print(option_one)\n",
    "print(option_two)\n",
    "print(option_three)\n",
    "print(option_four)"
   ]
  },
  {
   "cell_type": "raw",
   "id": "26bd4f56",
   "metadata": {},
   "source": [
    "You're a home decorator, and you'd like to use Python to streamline some of your work. Specifically, you're creating a tool that you intend to use to calculate the cost of painting a room.\n",
    "\n",
    "As a first step, define a function get_cost() that takes as input:\n",
    "\n",
    "sqft_walls = total square feet of walls to be painted\n",
    "sqft_ceiling = square feet of ceiling to be painted\n",
    "sqft_per_gallon = number of square feet that you can cover with one gallon of paint\n",
    "cost_per_gallon = cost (in dollars) of one gallon of paint\n",
    "\n",
    "It should return the cost (in dollars) of putting one coat of paint on all walls and the ceiling. Assume you can buy the exact amount of paint that you need, so you can buy partial gallons (e.g., if you need 7.523 gallons, you can buy that exact amount, instead of needing to buy 8 gallons and waste some paint). Do not round your answer."
   ]
  },
  {
   "cell_type": "code",
   "execution_count": 3,
   "id": "ad037d8c",
   "metadata": {},
   "outputs": [],
   "source": [
    "def get_cost(sqft_walls, sqft_ceiling, sqft_per_gallon, cost_per_gallon):\n",
    "    total_sqft = sqft_walls + sqft_ceiling\n",
    "    gallons_needed = total_sqft / sqft_per_gallon\n",
    "    cost = cost_per_gallon * gallons_needed\n",
    "    return cost"
   ]
  },
  {
   "cell_type": "raw",
   "id": "a59d0d80",
   "metadata": {},
   "source": [
    "Use the get_cost() function you defined in Question 3 to calculate the cost of applying one coat of paint to a room with:\n",
    "\n",
    "432 square feet of walls, and\n",
    "144 square feet of ceiling.\n",
    "\n",
    "Assume that one gallon of paint covers 400 square feet and costs $15. As in Question 3, assume you can buy partial gallons of paint. Do not round your answer."
   ]
  },
  {
   "cell_type": "code",
   "execution_count": 4,
   "id": "3ad4a187",
   "metadata": {},
   "outputs": [],
   "source": [
    "project_cost = get_cost(432,144,400,15)"
   ]
  },
  {
   "cell_type": "raw",
   "id": "498b4593",
   "metadata": {},
   "source": [
    "Now say you can no longer buy fractions of a gallon. (For instance, if you need 4.3 gallons to do a project, then you have to buy 5 gallons of paint.)\n",
    "\n",
    "With this new scenario, you will create a new function get_actual_cost that uses the same inputs and calculates the cost of your project.\n",
    "\n",
    "One function that you'll need to use to do this is math.ceil(). We demonstrate usage of this function in the code cell below. It takes as a number as input and rounds the number up to the nearest integer.\n",
    "\n",
    "Run the next code cell to test this function for yourself. Feel free to change the value of test_value and make sure math.ceil() returns the number you expect."
   ]
  },
  {
   "cell_type": "code",
   "execution_count": 5,
   "id": "6e0a340e",
   "metadata": {},
   "outputs": [
    {
     "name": "stdout",
     "output_type": "stream",
     "text": [
      "3\n"
     ]
    }
   ],
   "source": [
    "test_value = 2.17\n",
    "\n",
    "rounded_value = math.ceil(test_value)\n",
    "print(rounded_value)"
   ]
  },
  {
   "cell_type": "raw",
   "id": "b87edd82",
   "metadata": {},
   "source": [
    "Use the next code cell to define the function get_actual_cost(). You'll need to use the math.ceil() function to do this.\n",
    "\n",
    "When answering this question, note that it's completely valid to define a function that makes use of another function. For instance, we can define a function round_up_and_divide_by_three that makes use of the math.ceil function:\n",
    "\n",
    "def round_up_and_divide_by_three(num):\n",
    "    new_value = math.ceil(num)\n",
    "    final_value = new_value / 3\n",
    "    return final_value"
   ]
  },
  {
   "cell_type": "code",
   "execution_count": 6,
   "id": "24b20f46",
   "metadata": {},
   "outputs": [],
   "source": [
    "def get_actual_cost(sqft_walls, sqft_ceiling, sqft_per_gallon, cost_per_gallon):\n",
    "    total_sqft = sqft_walls + sqft_ceiling\n",
    "    gallons_needed = total_sqft / sqft_per_gallon\n",
    "    gallons_to_buy = math.ceil(gallons_needed)\n",
    "    cost = cost_per_gallon * gallons_to_buy\n",
    "    return cost"
   ]
  },
  {
   "cell_type": "code",
   "execution_count": 7,
   "id": "4c84441e",
   "metadata": {},
   "outputs": [
    {
     "data": {
      "text/plain": [
       "30"
      ]
     },
     "execution_count": 7,
     "metadata": {},
     "output_type": "execute_result"
    }
   ],
   "source": [
    "get_actual_cost(432, 144, 400, 15) "
   ]
  },
  {
   "cell_type": "code",
   "execution_count": null,
   "id": "a6370cdd",
   "metadata": {},
   "outputs": [],
   "source": []
  }
 ],
 "metadata": {
  "kernelspec": {
   "display_name": "Python 3 (ipykernel)",
   "language": "python",
   "name": "python3"
  },
  "language_info": {
   "codemirror_mode": {
    "name": "ipython",
    "version": 3
   },
   "file_extension": ".py",
   "mimetype": "text/x-python",
   "name": "python",
   "nbconvert_exporter": "python",
   "pygments_lexer": "ipython3",
   "version": "3.9.17"
  }
 },
 "nbformat": 4,
 "nbformat_minor": 5
}
