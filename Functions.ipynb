{
 "cells": [
  {
   "cell_type": "code",
   "execution_count": 1,
   "id": "a0ad565a",
   "metadata": {},
   "outputs": [],
   "source": [
    "def school():\n",
    "    a=int(input(\"Enter the value of a: \"))\n",
    "    b=int(input(\"Enter the value of b: \"))\n",
    "    c=a+b\n",
    "    print(c)\n",
    "    return c"
   ]
  },
  {
   "cell_type": "code",
   "execution_count": 8,
   "id": "e33b18f8",
   "metadata": {},
   "outputs": [],
   "source": [
    "def student():\n",
    "    c1=school()\n",
    "    for x in range(c1):\n",
    "        if x%2==0:\n",
    "            print(\"This is even...\",x)\n",
    "        else:\n",
    "            print(\"This is odd...\",x)"
   ]
  },
  {
   "cell_type": "code",
   "execution_count": 9,
   "id": "8458ff40",
   "metadata": {},
   "outputs": [
    {
     "name": "stdout",
     "output_type": "stream",
     "text": [
      "Enter the value of a: 5\n",
      "Enter the value of b: 6\n",
      "11\n",
      "This is even... 0\n",
      "This is odd... 1\n",
      "This is even... 2\n",
      "This is odd... 3\n",
      "This is even... 4\n",
      "This is odd... 5\n",
      "This is even... 6\n",
      "This is odd... 7\n",
      "This is even... 8\n",
      "This is odd... 9\n",
      "This is even... 10\n"
     ]
    }
   ],
   "source": [
    "student()"
   ]
  },
  {
   "cell_type": "code",
   "execution_count": null,
   "id": "79209fd2",
   "metadata": {},
   "outputs": [],
   "source": []
  }
 ],
 "metadata": {
  "kernelspec": {
   "display_name": "Python 3 (ipykernel)",
   "language": "python",
   "name": "python3"
  },
  "language_info": {
   "codemirror_mode": {
    "name": "ipython",
    "version": 3
   },
   "file_extension": ".py",
   "mimetype": "text/x-python",
   "name": "python",
   "nbconvert_exporter": "python",
   "pygments_lexer": "ipython3",
   "version": "3.9.17"
  }
 },
 "nbformat": 4,
 "nbformat_minor": 5
}
